{
  "nbformat": 4,
  "nbformat_minor": 0,
  "metadata": {
    "colab": {
      "provenance": [],
      "authorship_tag": "ABX9TyOfCmAkLspbOISYtWNU7KDA",
      "include_colab_link": true
    },
    "kernelspec": {
      "name": "python3",
      "display_name": "Python 3"
    },
    "language_info": {
      "name": "python"
    }
  },
  "cells": [
    {
      "cell_type": "markdown",
      "metadata": {
        "id": "view-in-github",
        "colab_type": "text"
      },
      "source": [
        "<a href=\"https://colab.research.google.com/github/Ivanman10/intro_python_202320/blob/main/introduction.ipynb\" target=\"_parent\"><img src=\"https://colab.research.google.com/assets/colab-badge.svg\" alt=\"Open In Colab\"/></a>"
      ]
    },
    {
      "cell_type": "markdown",
      "source": [
        "# Introduccion a Python\n",
        "\n",
        "# curso de programacion y algoritmia UPB 202320\n",
        "\n",
        "- Nombre: Ivan Miranda\n",
        "- ID: 000405236\n",
        "- Emai: Ivan.miranda@upbv.edu.co  \n",
        "\n",
        "esta es la ecpresion de la linea recta\n",
        "$$y = mx + b$$\n",
        "donde $x$ es la posicion\n",
        "\n"
      ],
      "metadata": {
        "id": "s_uo_vr4FUrk"
      }
    },
    {
      "cell_type": "code",
      "execution_count": null,
      "metadata": {
        "colab": {
          "base_uri": "https://localhost:8080/"
        },
        "id": "ZXoRxpKwEGsw",
        "outputId": "0e05b605-4cbe-4f04-b159-44ea9b743f1c"
      },
      "outputs": [
        {
          "output_type": "stream",
          "name": "stdout",
          "text": [
            "mi nombre es Iván Ramiro ,tengo 21 años ,vivo en Monteria y me gusta la Pizza\n"
          ]
        }
      ],
      "source": [
        "# comentarios\n",
        "\n",
        "# Mis primeras lineas de codigo en Python\n",
        "firstname = \"Iván\"\n",
        "lastname = \"Ramiro\"\n",
        "edad = \"21 años\"\n",
        "city = \"Monteria\"\n",
        "food = \"Pizza\"\n",
        "print (\"mi nombre es\", firstname, lastname,\",tengo\", edad,\",vivo en\", city,\"y me gusta la\", food)\n",
        "\n",
        "\n",
        "\n"
      ]
    },
    {
      "cell_type": "code",
      "source": [
        "a = 3\n",
        "b = 4.5\n",
        "c = a + b\n",
        "print (type(a))\n",
        "print (type(b))\n",
        "print (c)\n",
        "\n",
        "c = c * a\n",
        "print (c)\n",
        "\n",
        "c = int(c/b)\n",
        "print (c)\n",
        "\n",
        "d = 0.3\n",
        "c += 0.3\n",
        "print (c)\n"
      ],
      "metadata": {
        "id": "O_ibAELcH4wb",
        "outputId": "52ed475b-8961-4857-caec-22595fcce95e",
        "colab": {
          "base_uri": "https://localhost:8080/"
        }
      },
      "execution_count": 8,
      "outputs": [
        {
          "output_type": "stream",
          "name": "stdout",
          "text": [
            "<class 'int'>\n",
            "<class 'float'>\n",
            "7.5\n",
            "22.5\n",
            "5\n",
            "5.3\n"
          ]
        }
      ]
    },
    {
      "cell_type": "code",
      "source": [
        "\n",
        "y = ((5*-3) + 2 )\n",
        "print (y)\n",
        "\n",
        "y= ((5*-2) + 2)\n",
        "print (y)\n",
        "\n",
        "y = ((5*-1) + 2)\n",
        "print (y)\n",
        "\n",
        "y = ((5*0) + 2)\n",
        "print (y)\n",
        "\n",
        "y= ((5*1) + 2)\n",
        "print (y)\n",
        "\n",
        "y = ((5*2) + 2)\n",
        "print (y)\n",
        "\n",
        "y = ((5*1) + 2)\n",
        "print (y)\n",
        "\n"
      ],
      "metadata": {
        "colab": {
          "base_uri": "https://localhost:8080/"
        },
        "id": "BszW3FR7asLg",
        "outputId": "2f971cf0-91f9-4328-9a9c-efc64f6c32b1"
      },
      "execution_count": 21,
      "outputs": [
        {
          "output_type": "stream",
          "name": "stdout",
          "text": [
            "-13\n",
            "-8\n",
            "-3\n",
            "2\n",
            "7\n",
            "12\n",
            "7\n"
          ]
        }
      ]
    },
    {
      "cell_type": "code",
      "source": [
        "a = -3\n",
        "B = -1\n",
        "C = 10\n",
        "disc = (b ** 2 - 4 * a * c )**(1/2)\n",
        "x_p = (-b - disc) / (2 * a)\n",
        "x_n = (-b + disc) / (2 * a)\n",
        "print (\"x_p:\" , x_p)\n",
        "print (\"x_n:\" , x_n)\n"
      ],
      "metadata": {
        "outputId": "48b45c12-6fbd-42f9-8d74-563f7938de65",
        "colab": {
          "base_uri": "https://localhost:8080/"
        },
        "id": "CCV9TRW-e_Cv"
      },
      "execution_count": 37,
      "outputs": [
        {
          "output_type": "stream",
          "name": "stdout",
          "text": [
            "x_p: 2.2761607604268517\n",
            "x_n: -0.7761607604268518\n"
          ]
        }
      ]
    },
    {
      "cell_type": "code",
      "source": [
        "a = 0.1\n",
        "B = -2\n",
        "C = 0.5\n",
        "disc = (b ** 2 - 4 * a * c )**(0.5)\n",
        "x_p = (-b + disc) / (2 * a)\n",
        "x_n = (-b - disc) / (2 * a)\n",
        "print (\"x_p:\" , x_p)\n",
        "print (\"x_n:\" , x_n)\n",
        "print (\"-\"*10)"
      ],
      "metadata": {
        "id": "3hqzhL-MeHb-",
        "outputId": "60d9c15e-4bca-4dee-fa7d-7dd1fe6865d0",
        "colab": {
          "base_uri": "https://localhost:8080/"
        }
      },
      "execution_count": 36,
      "outputs": [
        {
          "output_type": "stream",
          "name": "stdout",
          "text": [
            "x_p: -1.2103311439562336\n",
            "x_n: -43.78966885604376\n",
            "----------\n"
          ]
        }
      ]
    },
    {
      "cell_type": "code",
      "source": [
        "firstname = \"ivan\"\n",
        "lastname = \"ramiro\"\n",
        "fullname = firstname + \" \" + lastname\n",
        "print (fullname)"
      ],
      "metadata": {
        "id": "cKO2PTgljcVc",
        "outputId": "0cc814b3-0693-420e-e63a-5ee5f4215ffa",
        "colab": {
          "base_uri": "https://localhost:8080/"
        }
      },
      "execution_count": 39,
      "outputs": [
        {
          "output_type": "stream",
          "name": "stdout",
          "text": [
            "ivan ramiro\n"
          ]
        }
      ]
    },
    {
      "cell_type": "code",
      "source": [
        "a = 3\n",
        "b = 5\n",
        "print (a == b)\n",
        "print (a != b)\n",
        "print (a > b)\n",
        "print (a < b)\n",
        "\n",
        "print (a == b and b + 3 > 5)\n",
        "print (a == b or b + 3 > 5)\n",
        "print ( not( a == b))\n"
      ],
      "metadata": {
        "id": "vsWCuC8blIUH",
        "outputId": "bb0f8030-a0f5-4cfc-e0cd-325f1cdd4760",
        "colab": {
          "base_uri": "https://localhost:8080/"
        }
      },
      "execution_count": 45,
      "outputs": [
        {
          "output_type": "stream",
          "name": "stdout",
          "text": [
            "False\n",
            "True\n",
            "False\n",
            "True\n",
            "False\n",
            "True\n",
            "True\n"
          ]
        }
      ]
    },
    {
      "cell_type": "code",
      "source": [],
      "metadata": {
        "id": "NyLa5PQWmQRk"
      },
      "execution_count": 40,
      "outputs": []
    }
  ]
}