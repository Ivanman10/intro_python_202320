{
  "nbformat": 4,
  "nbformat_minor": 0,
  "metadata": {
    "colab": {
      "provenance": [],
      "authorship_tag": "ABX9TyMifNOya+ed7VDjjnW/O/7y",
      "include_colab_link": true
    },
    "kernelspec": {
      "name": "python3",
      "display_name": "Python 3"
    },
    "language_info": {
      "name": "python"
    }
  },
  "cells": [
    {
      "cell_type": "markdown",
      "metadata": {
        "id": "view-in-github",
        "colab_type": "text"
      },
      "source": [
        "<a href=\"https://colab.research.google.com/github/Ivanman10/intro_python_202320/blob/main/introduction.ipynb\" target=\"_parent\"><img src=\"https://colab.research.google.com/assets/colab-badge.svg\" alt=\"Open In Colab\"/></a>"
      ]
    },
    {
      "cell_type": "markdown",
      "source": [
        "# Introduccion a Python\n",
        "\n",
        "# curso de programacion y algoritmia UPB 202320\n",
        "\n",
        "- Nombre: Ivan Miranda\n",
        "- ID: 000405236\n",
        "- Emai: Ivan.miranda@upbv.edu.co  \n",
        "\n",
        "esta es la ecpresion de la linea recta\n",
        "$$y = mx + b$$\n",
        "donde $x$ es la posicion\n",
        "\n"
      ],
      "metadata": {
        "id": "s_uo_vr4FUrk"
      }
    },
    {
      "cell_type": "code",
      "execution_count": null,
      "metadata": {
        "id": "ZXoRxpKwEGsw"
      },
      "outputs": [],
      "source": []
    },
    {
      "cell_type": "code",
      "source": [],
      "metadata": {
        "id": "O_ibAELcH4wb"
      },
      "execution_count": null,
      "outputs": []
    }
  ]
}